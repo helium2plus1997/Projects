{
 "cells": [
  {
   "cell_type": "code",
   "execution_count": 2,
   "metadata": {},
   "outputs": [
    {
     "data": {
      "image/png": "[encoded data removed]",
      "text/plain": [
       "<Figure size 432x288 with 1 Axes>"
      ]
     },
     "metadata": {},
     "output_type": "display_data"
    }
   ],
   "source": [
    "import pandas\n",
    "import matplotlib.pyplot as plt\n",
    "dataset = pandas.read_csv('C:/Users/Admin/GJ_Total.csv', usecols=[1], engine='python', skipfooter=3)\n",
    "plt.plot(dataset)\n",
    "plt.show()"
   ]
  },
  {
   "cell_type": "code",
   "execution_count": 1,
   "metadata": {},
   "outputs": [
    {
     "name": "stderr",
     "output_type": "stream",
     "text": [
      "Using TensorFlow backend.\n"
     ]
    }
   ],
   "source": [
    "import numpy\n",
    "import matplotlib.pyplot as plt\n",
    "import pandas\n",
    "import math\n",
    "from keras.models import Sequential\n",
    "from keras.layers import Dense\n",
    "from keras.layers import LSTM\n",
    "from sklearn.preprocessing import MinMaxScaler\n",
    "from sklearn.metrics import mean_squared_error\n",
    "\n",
    "# fix random seed for reproducibility\n",
    "numpy.random.seed(7)"
   ]
  },
  {
   "cell_type": "code",
   "execution_count": 2,
   "metadata": {},
   "outputs": [
    {
     "ename": "FileNotFoundError",
     "evalue": "[Errno 2] No such file or directory: 'C:/Users/Admin/GJ_Total.csv'",
     "output_type": "error",
     "traceback": [
      "\u001b[0;31m---------------------------------------------------------------------------\u001b[0m",
      "\u001b[0;31mFileNotFoundError\u001b[0m                         Traceback (most recent call last)",
      "\u001b[0;32m<ipython-input-2-1ee83b7589a0>\u001b[0m in \u001b[0;36m<module>\u001b[0;34m\u001b[0m\n\u001b[1;32m      1\u001b[0m \u001b[0;31m# load the dataset\u001b[0m\u001b[0;34m\u001b[0m\u001b[0;34m\u001b[0m\u001b[0;34m\u001b[0m\u001b[0m\n\u001b[0;32m----> 2\u001b[0;31m \u001b[0mdataframe\u001b[0m \u001b[0;34m=\u001b[0m \u001b[0mpandas\u001b[0m\u001b[0;34m.\u001b[0m\u001b[0mread_csv\u001b[0m\u001b[0;34m(\u001b[0m\u001b[0;34m'C:/Users/Admin/GJ_Total.csv'\u001b[0m\u001b[0;34m,\u001b[0m \u001b[0musecols\u001b[0m\u001b[0;34m=\u001b[0m\u001b[0;34m[\u001b[0m\u001b[0;36m1\u001b[0m\u001b[0;34m]\u001b[0m\u001b[0;34m,\u001b[0m \u001b[0mengine\u001b[0m\u001b[0;34m=\u001b[0m\u001b[0;34m'python'\u001b[0m\u001b[0;34m,\u001b[0m \u001b[0mskipfooter\u001b[0m\u001b[0;34m=\u001b[0m\u001b[0;36m3\u001b[0m\u001b[0;34m)\u001b[0m\u001b[0;34m\u001b[0m\u001b[0;34m\u001b[0m\u001b[0m\n\u001b[0m\u001b[1;32m      3\u001b[0m \u001b[0mdataset\u001b[0m \u001b[0;34m=\u001b[0m \u001b[0mdataframe\u001b[0m\u001b[0;34m.\u001b[0m\u001b[0mvalues\u001b[0m\u001b[0;34m\u001b[0m\u001b[0;34m\u001b[0m\u001b[0m\n\u001b[1;32m      4\u001b[0m \u001b[0mdataset\u001b[0m \u001b[0;34m=\u001b[0m \u001b[0mdataset\u001b[0m\u001b[0;34m.\u001b[0m\u001b[0mastype\u001b[0m\u001b[0;34m(\u001b[0m\u001b[0;34m'float32'\u001b[0m\u001b[0;34m)\u001b[0m\u001b[0;34m\u001b[0m\u001b[0;34m\u001b[0m\u001b[0m\n",
      "\u001b[0;32m~/.local/lib/python3.6/site-packages/pandas/io/parsers.py\u001b[0m in \u001b[0;36mparser_f\u001b[0;34m(filepath_or_buffer, sep, delimiter, header, names, index_col, usecols, squeeze, prefix, mangle_dupe_cols, dtype, engine, converters, true_values, false_values, skipinitialspace, skiprows, nrows, na_values, keep_default_na, na_filter, verbose, skip_blank_lines, parse_dates, infer_datetime_format, keep_date_col, date_parser, dayfirst, iterator, chunksize, compression, thousands, decimal, lineterminator, quotechar, quoting, escapechar, comment, encoding, dialect, tupleize_cols, error_bad_lines, warn_bad_lines, skipfooter, doublequote, delim_whitespace, low_memory, memory_map, float_precision)\u001b[0m\n\u001b[1;32m    676\u001b[0m                     skip_blank_lines=skip_blank_lines)\n\u001b[1;32m    677\u001b[0m \u001b[0;34m\u001b[0m\u001b[0m\n\u001b[0;32m--> 678\u001b[0;31m         \u001b[0;32mreturn\u001b[0m \u001b[0m_read\u001b[0m\u001b[0;34m(\u001b[0m\u001b[0mfilepath_or_buffer\u001b[0m\u001b[0;34m,\u001b[0m \u001b[0mkwds\u001b[0m\u001b[0;34m)\u001b[0m\u001b[0;34m\u001b[0m\u001b[0;34m\u001b[0m\u001b[0m\n\u001b[0m\u001b[1;32m    679\u001b[0m \u001b[0;34m\u001b[0m\u001b[0m\n\u001b[1;32m    680\u001b[0m     \u001b[0mparser_f\u001b[0m\u001b[0;34m.\u001b[0m\u001b[0m__name__\u001b[0m \u001b[0;34m=\u001b[0m \u001b[0mname\u001b[0m\u001b[0;34m\u001b[0m\u001b[0;34m\u001b[0m\u001b[0m\n",
      "\u001b[0;32m~/.local/lib/python3.6/site-packages/pandas/io/parsers.py\u001b[0m in \u001b[0;36m_read\u001b[0;34m(filepath_or_buffer, kwds)\u001b[0m\n\u001b[1;32m    438\u001b[0m \u001b[0;34m\u001b[0m\u001b[0m\n\u001b[1;32m    439\u001b[0m     \u001b[0;31m# Create the parser.\u001b[0m\u001b[0;34m\u001b[0m\u001b[0;34m\u001b[0m\u001b[0;34m\u001b[0m\u001b[0m\n\u001b[0;32m--> 440\u001b[0;31m     \u001b[0mparser\u001b[0m \u001b[0;34m=\u001b[0m \u001b[0mTextFileReader\u001b[0m\u001b[0;34m(\u001b[0m\u001b[0mfilepath_or_buffer\u001b[0m\u001b[0;34m,\u001b[0m \u001b[0;34m**\u001b[0m\u001b[0mkwds\u001b[0m\u001b[0;34m)\u001b[0m\u001b[0;34m\u001b[0m\u001b[0;34m\u001b[0m\u001b[0m\n\u001b[0m\u001b[1;32m    441\u001b[0m \u001b[0;34m\u001b[0m\u001b[0m\n\u001b[1;32m    442\u001b[0m     \u001b[0;32mif\u001b[0m \u001b[0mchunksize\u001b[0m \u001b[0;32mor\u001b[0m \u001b[0miterator\u001b[0m\u001b[0;34m:\u001b[0m\u001b[0;34m\u001b[0m\u001b[0;34m\u001b[0m\u001b[0m\n",
      "\u001b[0;32m~/.local/lib/python3.6/site-packages/pandas/io/parsers.py\u001b[0m in \u001b[0;36m__init__\u001b[0;34m(self, f, engine, **kwds)\u001b[0m\n\u001b[1;32m    785\u001b[0m             \u001b[0mself\u001b[0m\u001b[0;34m.\u001b[0m\u001b[0moptions\u001b[0m\u001b[0;34m[\u001b[0m\u001b[0;34m'has_index_names'\u001b[0m\u001b[0;34m]\u001b[0m \u001b[0;34m=\u001b[0m \u001b[0mkwds\u001b[0m\u001b[0;34m[\u001b[0m\u001b[0;34m'has_index_names'\u001b[0m\u001b[0;34m]\u001b[0m\u001b[0;34m\u001b[0m\u001b[0;34m\u001b[0m\u001b[0m\n\u001b[1;32m    786\u001b[0m \u001b[0;34m\u001b[0m\u001b[0m\n\u001b[0;32m--> 787\u001b[0;31m         \u001b[0mself\u001b[0m\u001b[0;34m.\u001b[0m\u001b[0m_make_engine\u001b[0m\u001b[0;34m(\u001b[0m\u001b[0mself\u001b[0m\u001b[0;34m.\u001b[0m\u001b[0mengine\u001b[0m\u001b[0;34m)\u001b[0m\u001b[0;34m\u001b[0m\u001b[0;34m\u001b[0m\u001b[0m\n\u001b[0m\u001b[1;32m    788\u001b[0m \u001b[0;34m\u001b[0m\u001b[0m\n\u001b[1;32m    789\u001b[0m     \u001b[0;32mdef\u001b[0m \u001b[0mclose\u001b[0m\u001b[0;34m(\u001b[0m\u001b[0mself\u001b[0m\u001b[0;34m)\u001b[0m\u001b[0;34m:\u001b[0m\u001b[0;34m\u001b[0m\u001b[0;34m\u001b[0m\u001b[0m\n",
      "\u001b[0;32m~/.local/lib/python3.6/site-packages/pandas/io/parsers.py\u001b[0m in \u001b[0;36m_make_engine\u001b[0;34m(self, engine)\u001b[0m\n\u001b[1;32m   1022\u001b[0m                                  ' \"c\", \"python\", or' ' \"python-fwf\")'.format(\n\u001b[1;32m   1023\u001b[0m                                      engine=engine))\n\u001b[0;32m-> 1024\u001b[0;31m             \u001b[0mself\u001b[0m\u001b[0;34m.\u001b[0m\u001b[0m_engine\u001b[0m \u001b[0;34m=\u001b[0m \u001b[0mklass\u001b[0m\u001b[0;34m(\u001b[0m\u001b[0mself\u001b[0m\u001b[0;34m.\u001b[0m\u001b[0mf\u001b[0m\u001b[0;34m,\u001b[0m \u001b[0;34m**\u001b[0m\u001b[0mself\u001b[0m\u001b[0;34m.\u001b[0m\u001b[0moptions\u001b[0m\u001b[0;34m)\u001b[0m\u001b[0;34m\u001b[0m\u001b[0;34m\u001b[0m\u001b[0m\n\u001b[0m\u001b[1;32m   1025\u001b[0m \u001b[0;34m\u001b[0m\u001b[0m\n\u001b[1;32m   1026\u001b[0m     \u001b[0;32mdef\u001b[0m \u001b[0m_failover_to_python\u001b[0m\u001b[0;34m(\u001b[0m\u001b[0mself\u001b[0m\u001b[0;34m)\u001b[0m\u001b[0;34m:\u001b[0m\u001b[0;34m\u001b[0m\u001b[0;34m\u001b[0m\u001b[0m\n",
      "\u001b[0;32m~/.local/lib/python3.6/site-packages/pandas/io/parsers.py\u001b[0m in \u001b[0;36m__init__\u001b[0;34m(self, f, **kwds)\u001b[0m\n\u001b[1;32m   2075\u001b[0m         f, handles = _get_handle(f, mode, encoding=self.encoding,\n\u001b[1;32m   2076\u001b[0m                                  \u001b[0mcompression\u001b[0m\u001b[0;34m=\u001b[0m\u001b[0mself\u001b[0m\u001b[0;34m.\u001b[0m\u001b[0mcompression\u001b[0m\u001b[0;34m,\u001b[0m\u001b[0;34m\u001b[0m\u001b[0;34m\u001b[0m\u001b[0m\n\u001b[0;32m-> 2077\u001b[0;31m                                  memory_map=self.memory_map)\n\u001b[0m\u001b[1;32m   2078\u001b[0m         \u001b[0mself\u001b[0m\u001b[0;34m.\u001b[0m\u001b[0mhandles\u001b[0m\u001b[0;34m.\u001b[0m\u001b[0mextend\u001b[0m\u001b[0;34m(\u001b[0m\u001b[0mhandles\u001b[0m\u001b[0;34m)\u001b[0m\u001b[0;34m\u001b[0m\u001b[0;34m\u001b[0m\u001b[0m\n\u001b[1;32m   2079\u001b[0m \u001b[0;34m\u001b[0m\u001b[0m\n",
      "\u001b[0;32m~/.local/lib/python3.6/site-packages/pandas/io/common.py\u001b[0m in \u001b[0;36m_get_handle\u001b[0;34m(path_or_buf, mode, encoding, compression, memory_map, is_text)\u001b[0m\n\u001b[1;32m    401\u001b[0m         \u001b[0;32melif\u001b[0m \u001b[0mis_text\u001b[0m\u001b[0;34m:\u001b[0m\u001b[0;34m\u001b[0m\u001b[0;34m\u001b[0m\u001b[0m\n\u001b[1;32m    402\u001b[0m             \u001b[0;31m# Python 3 and no explicit encoding\u001b[0m\u001b[0;34m\u001b[0m\u001b[0;34m\u001b[0m\u001b[0;34m\u001b[0m\u001b[0m\n\u001b[0;32m--> 403\u001b[0;31m             \u001b[0mf\u001b[0m \u001b[0;34m=\u001b[0m \u001b[0mopen\u001b[0m\u001b[0;34m(\u001b[0m\u001b[0mpath_or_buf\u001b[0m\u001b[0;34m,\u001b[0m \u001b[0mmode\u001b[0m\u001b[0;34m,\u001b[0m \u001b[0merrors\u001b[0m\u001b[0;34m=\u001b[0m\u001b[0;34m'replace'\u001b[0m\u001b[0;34m)\u001b[0m\u001b[0;34m\u001b[0m\u001b[0;34m\u001b[0m\u001b[0m\n\u001b[0m\u001b[1;32m    404\u001b[0m         \u001b[0;32melse\u001b[0m\u001b[0;34m:\u001b[0m\u001b[0;34m\u001b[0m\u001b[0;34m\u001b[0m\u001b[0m\n\u001b[1;32m    405\u001b[0m             \u001b[0;31m# Python 3 and binary mode\u001b[0m\u001b[0;34m\u001b[0m\u001b[0;34m\u001b[0m\u001b[0;34m\u001b[0m\u001b[0m\n",
      "\u001b[0;31mFileNotFoundError\u001b[0m: [Errno 2] No such file or directory: 'C:/Users/Admin/GJ_Total.csv'"
     ]
    }
   ],
   "source": [
    "# load the dataset\n",
    "dataframe = pandas.read_csv('C:/Users/Admin/GJ_Total.csv', usecols=[1], engine='python', skipfooter=3)\n",
    "dataset = dataframe.values\n",
    "dataset = dataset.astype('float32')"
   ]
  },
  {
   "cell_type": "code",
   "execution_count": 5,
   "metadata": {},
   "outputs": [],
   "source": [
    "# normalize the dataset\n",
    "scaler = MinMaxScaler(feature_range=(0, 1))\n",
    "dataset = scaler.fit_transform(dataset)"
   ]
  },
  {
   "cell_type": "code",
   "execution_count": 6,
   "metadata": {},
   "outputs": [
    {
     "name": "stdout",
     "output_type": "stream",
     "text": [
      "90916 44780\n"
     ]
    }
   ],
   "source": [
    "# split into train and test sets\n",
    "train_size = int(len(dataset) * 0.67)\n",
    "test_size = len(dataset) - train_size\n",
    "train, test = dataset[0:train_size,:], dataset[train_size:len(dataset),:]\n",
    "print(len(train), len(test))"
   ]
  },
  {
   "cell_type": "code",
   "execution_count": 7,
   "metadata": {},
   "outputs": [],
   "source": [
    "# convert an array of values into a dataset matrix\n",
    "def create_dataset(dataset, look_back=1):\n",
    "\tdataX, dataY = [], []\n",
    "\tfor i in range(len(dataset)-look_back-1):\n",
    "\t\ta = dataset[i:(i+look_back), 0]\n",
    "\t\tdataX.append(a)\n",
    "\t\tdataY.append(dataset[i + look_back, 0])\n",
    "\treturn numpy.array(dataX), numpy.array(dataY)"
   ]
  },
  {
   "cell_type": "code",
   "execution_count": 8,
   "metadata": {},
   "outputs": [],
   "source": [
    "\n",
    "# reshape into X=t and Y=t+1\n",
    "look_back = 1\n",
    "trainX, trainY = create_dataset(train, look_back)\n",
    "testX, testY = create_dataset(test, look_back)"
   ]
  },
  {
   "cell_type": "code",
   "execution_count": 9,
   "metadata": {},
   "outputs": [],
   "source": [
    "\n",
    "# reshape input to be [samples, time steps, features]\n",
    "trainX = numpy.reshape(trainX, (trainX.shape[0], 1, trainX.shape[1]))\n",
    "testX = numpy.reshape(testX, (testX.shape[0], 1, testX.shape[1]))"
   ]
  },
  {
   "cell_type": "code",
   "execution_count": 10,
   "metadata": {},
   "outputs": [
    {
     "name": "stdout",
     "output_type": "stream",
     "text": [
      "Epoch 1/100\n",
      " - 157s - loss: 3.0924e-04\n",
      "Epoch 2/100\n",
      " - 156s - loss: 9.1074e-05\n",
      "Epoch 3/100\n",
      " - 156s - loss: 8.8102e-05\n",
      "Epoch 4/100\n",
      " - 156s - loss: 8.7459e-05\n",
      "Epoch 5/100\n",
      " - 157s - loss: 8.6919e-05\n",
      "Epoch 6/100\n",
      " - 157s - loss: 8.6065e-05\n",
      "Epoch 7/100\n",
      " - 156s - loss: 8.5740e-05\n",
      "Epoch 8/100\n",
      " - 156s - loss: 8.5699e-05\n",
      "Epoch 9/100\n",
      " - 158s - loss: 8.5281e-05\n",
      "Epoch 10/100\n",
      " - 158s - loss: 8.5255e-05\n",
      "Epoch 11/100\n",
      " - 158s - loss: 8.4999e-05\n",
      "Epoch 12/100\n",
      " - 159s - loss: 8.4526e-05\n",
      "Epoch 13/100\n",
      " - 159s - loss: 8.4525e-05\n",
      "Epoch 14/100\n",
      " - 159s - loss: 8.4233e-05\n",
      "Epoch 15/100\n",
      " - 160s - loss: 8.3975e-05\n",
      "Epoch 16/100\n",
      " - 160s - loss: 8.3917e-05\n",
      "Epoch 17/100\n",
      " - 160s - loss: 8.4024e-05\n",
      "Epoch 18/100\n",
      " - 160s - loss: 8.4064e-05\n",
      "Epoch 19/100\n",
      " - 159s - loss: 8.3631e-05\n",
      "Epoch 20/100\n",
      " - 159s - loss: 8.3744e-05\n",
      "Epoch 21/100\n",
      " - 159s - loss: 8.3435e-05\n",
      "Epoch 22/100\n",
      " - 158s - loss: 8.3633e-05\n",
      "Epoch 23/100\n",
      " - 158s - loss: 8.3655e-05\n",
      "Epoch 24/100\n",
      " - 158s - loss: 8.3442e-05\n",
      "Epoch 25/100\n",
      " - 158s - loss: 8.3412e-05\n",
      "Epoch 26/100\n",
      " - 159s - loss: 8.3484e-05\n",
      "Epoch 27/100\n",
      " - 159s - loss: 8.3384e-05\n",
      "Epoch 28/100\n",
      " - 158s - loss: 8.3448e-05\n",
      "Epoch 29/100\n",
      " - 158s - loss: 8.3519e-05\n",
      "Epoch 30/100\n",
      " - 159s - loss: 8.3373e-05\n",
      "Epoch 31/100\n",
      " - 158s - loss: 8.3305e-05\n",
      "Epoch 32/100\n",
      " - 160s - loss: 8.3396e-05\n",
      "Epoch 33/100\n",
      " - 159s - loss: 8.3195e-05\n",
      "Epoch 34/100\n",
      " - 158s - loss: 8.3166e-05\n",
      "Epoch 35/100\n",
      " - 158s - loss: 8.3138e-05\n",
      "Epoch 36/100\n",
      " - 157s - loss: 8.3221e-05\n",
      "Epoch 37/100\n",
      " - 157s - loss: 8.3093e-05\n",
      "Epoch 38/100\n",
      " - 155s - loss: 8.3099e-05\n",
      "Epoch 39/100\n",
      " - 156s - loss: 8.3123e-05\n",
      "Epoch 40/100\n",
      " - 156s - loss: 8.3136e-05\n",
      "Epoch 41/100\n",
      " - 156s - loss: 8.2991e-05\n",
      "Epoch 42/100\n",
      " - 157s - loss: 8.2836e-05\n",
      "Epoch 43/100\n",
      " - 157s - loss: 8.2906e-05\n",
      "Epoch 44/100\n",
      " - 157s - loss: 8.2889e-05\n",
      "Epoch 45/100\n",
      " - 158s - loss: 8.2975e-05\n",
      "Epoch 46/100\n",
      " - 158s - loss: 8.2943e-05\n",
      "Epoch 47/100\n",
      " - 158s - loss: 8.2663e-05\n",
      "Epoch 48/100\n",
      " - 159s - loss: 8.2944e-05\n",
      "Epoch 49/100\n",
      " - 159s - loss: 8.2971e-05\n",
      "Epoch 50/100\n",
      " - 159s - loss: 8.3043e-05\n",
      "Epoch 51/100\n",
      " - 158s - loss: 8.2947e-05\n",
      "Epoch 52/100\n",
      " - 159s - loss: 8.2787e-05\n",
      "Epoch 53/100\n",
      " - 159s - loss: 8.2949e-05\n",
      "Epoch 54/100\n",
      " - 158s - loss: 8.2708e-05\n",
      "Epoch 55/100\n",
      " - 159s - loss: 8.2873e-05\n",
      "Epoch 56/100\n",
      " - 158s - loss: 8.2784e-05\n",
      "Epoch 57/100\n",
      " - 158s - loss: 8.2761e-05\n",
      "Epoch 58/100\n",
      " - 158s - loss: 8.2767e-05\n",
      "Epoch 59/100\n",
      " - 159s - loss: 8.2797e-05\n",
      "Epoch 60/100\n",
      " - 160s - loss: 8.2693e-05\n",
      "Epoch 61/100\n",
      " - 160s - loss: 8.2832e-05\n",
      "Epoch 62/100\n",
      " - 160s - loss: 8.2784e-05\n",
      "Epoch 63/100\n",
      " - 160s - loss: 8.2794e-05\n",
      "Epoch 64/100\n",
      " - 161s - loss: 8.2844e-05\n",
      "Epoch 65/100\n",
      " - 161s - loss: 8.2844e-05\n",
      "Epoch 66/100\n",
      " - 161s - loss: 8.2842e-05\n",
      "Epoch 67/100\n",
      " - 161s - loss: 8.2555e-05\n",
      "Epoch 68/100\n",
      " - 161s - loss: 8.2714e-05\n",
      "Epoch 69/100\n",
      " - 161s - loss: 8.2848e-05\n",
      "Epoch 70/100\n",
      " - 1175s - loss: 8.2610e-05\n",
      "Epoch 71/100\n",
      " - 156s - loss: 8.2599e-05\n",
      "Epoch 72/100\n",
      " - 154s - loss: 8.2705e-05\n",
      "Epoch 73/100\n",
      " - 155s - loss: 8.2675e-05\n",
      "Epoch 74/100\n",
      " - 155s - loss: 8.2759e-05\n",
      "Epoch 75/100\n",
      " - 156s - loss: 8.2894e-05\n",
      "Epoch 76/100\n",
      " - 156s - loss: 8.2562e-05\n",
      "Epoch 77/100\n",
      " - 156s - loss: 8.2508e-05\n",
      "Epoch 78/100\n",
      " - 155s - loss: 8.2831e-05\n",
      "Epoch 79/100\n",
      " - 156s - loss: 8.2541e-05\n",
      "Epoch 80/100\n",
      " - 156s - loss: 8.2743e-05\n",
      "Epoch 81/100\n",
      " - 156s - loss: 8.2812e-05\n",
      "Epoch 82/100\n",
      " - 155s - loss: 8.2576e-05\n",
      "Epoch 83/100\n",
      " - 155s - loss: 8.2715e-05\n",
      "Epoch 84/100\n",
      " - 155s - loss: 8.2738e-05\n",
      "Epoch 85/100\n",
      " - 5003s - loss: 8.2553e-05\n",
      "Epoch 86/100\n",
      " - 155s - loss: 8.2721e-05\n",
      "Epoch 87/100\n",
      " - 154s - loss: 8.2479e-05\n",
      "Epoch 88/100\n",
      " - 155s - loss: 8.2541e-05\n",
      "Epoch 89/100\n",
      " - 154s - loss: 8.2324e-05\n",
      "Epoch 90/100\n",
      " - 155s - loss: 8.2465e-05\n",
      "Epoch 91/100\n",
      " - 155s - loss: 8.2584e-05\n",
      "Epoch 92/100\n",
      " - 154s - loss: 8.2511e-05\n",
      "Epoch 93/100\n",
      " - 154s - loss: 8.2530e-05\n",
      "Epoch 94/100\n",
      " - 155s - loss: 8.2632e-05\n",
      "Epoch 95/100\n",
      " - 154s - loss: 8.2680e-05\n",
      "Epoch 96/100\n",
      " - 154s - loss: 8.2338e-05\n",
      "Epoch 97/100\n",
      " - 154s - loss: 8.2538e-05\n",
      "Epoch 98/100\n",
      " - 154s - loss: 8.2774e-05\n",
      "Epoch 99/100\n",
      " - 155s - loss: 8.2481e-05\n",
      "Epoch 100/100\n",
      " - 154s - loss: 8.2549e-05\n"
     ]
    },
    {
     "data": {
      "text/plain": [
       "<keras.callbacks.History at 0x113eef64cf8>"
      ]
     },
     "execution_count": 10,
     "metadata": {},
     "output_type": "execute_result"
    }
   ],
   "source": [
    "# create and fit the LSTM network\n",
    "model = Sequential()\n",
    "model.add(LSTM(4, input_shape=(1, look_back)))\n",
    "model.add(Dense(1))\n",
    "model.compile(loss='mean_squared_error', optimizer='adam')\n",
    "model.fit(trainX, trainY, epochs=100, batch_size=1, verbose=2)"
   ]
  },
  {
   "cell_type": "code",
   "execution_count": 11,
   "metadata": {},
   "outputs": [
    {
     "name": "stdout",
     "output_type": "stream",
     "text": [
      "Train Score: 38852.14 RMSE\n",
      "Test Score: 47578.66 RMSE\n"
     ]
    }
   ],
   "source": [
    "\n",
    "# make predictions\n",
    "trainPredict = model.predict(trainX)\n",
    "testPredict = model.predict(testX)\n",
    "# invert predictions\n",
    "trainPredict = scaler.inverse_transform(trainPredict)\n",
    "trainY = scaler.inverse_transform([trainY])\n",
    "testPredict = scaler.inverse_transform(testPredict)\n",
    "testY = scaler.inverse_transform([testY])\n",
    "# calculate root mean squared error\n",
    "trainScore = math.sqrt(mean_squared_error(trainY[0], trainPredict[:,0]))\n",
    "print('Train Score: %.2f RMSE' % (trainScore))\n",
    "testScore = math.sqrt(mean_squared_error(testY[0], testPredict[:,0]))\n",
    "print('Test Score: %.2f RMSE' % (testScore))"
   ]
  },
  {
   "cell_type": "code",
   "execution_count": 16,
   "metadata": {},
   "outputs": [
    {
     "data": {
      "image/png": "[encoded data removed]",
      "text/plain": [
       "<Figure size 432x288 with 1 Axes>"
      ]
     },
     "metadata": {},
     "output_type": "display_data"
    }
   ],
   "source": [
    "\n",
    "# shift train predictions for plotting\n",
    "trainPredictPlot = numpy.empty_like(dataset)\n",
    "trainPredictPlot[:, :] = numpy.nan\n",
    "trainPredictPlot[look_back:len(trainPredict)+look_back, :] = trainPredict\n",
    "# shift test predictions for plotting\n",
    "testPredictPlot = numpy.empty_like(dataset)\n",
    "testPredictPlot[:, :] = numpy.nan\n",
    "testPredictPlot[len(trainPredict)+(look_back*2)+1:len(dataset)-1, :] = testPredict\n",
    "# plot baseline and predictions\n",
    "plt.plot(scaler.inverse_transform(dataset))\n",
    "plt.plot(trainPredictPlot)\n",
    "plt.plot(testPredictPlot)\n",
    "plt.show()"
   ]
  },
  {
   "cell_type": "code",
   "execution_count": null,
   "metadata": {},
   "outputs": [],
   "source": []
  }
 ],
 "metadata": {
  "kernelspec": {
   "display_name": "Python 3",
   "language": "python",
   "name": "python3"
  },
  "language_info": {
   "codemirror_mode": {
    "name": "ipython",
    "version": 3
   },
   "file_extension": ".py",
   "mimetype": "text/x-python",
   "name": "python",
   "nbconvert_exporter": "python",
   "pygments_lexer": "ipython3",
   "version": "3.6.7"
  }
 },
 "nbformat": 4,
 "nbformat_minor": 2
}
